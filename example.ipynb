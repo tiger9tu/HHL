{
 "cells": [
  {
   "cell_type": "markdown",
   "metadata": {},
   "source": [
    "# Examples for Using HHL"
   ]
  },
  {
   "cell_type": "markdown",
   "metadata": {},
   "source": [
    "## Simple Example to Validate Result\n",
    "\n",
    "Let's first try a simple example and validate that our code gives the correct results. Remember that the answer in the HHL algorithm is not classical, but encoded in a statevector, which is difficult to directly observe. In order to validate our result, we use the `Statevector` class from the `quantum_info` package to obtain the exact vector components."
   ]
  },
  {
   "cell_type": "code",
   "execution_count": 2,
   "metadata": {},
   "outputs": [
    {
     "name": "stdout",
     "output_type": "stream",
     "text": [
      "quantum circuit: \n",
      "      ┌─────────────┐┌──────┐        ┌─────────┐\n",
      "  q1: ┤ circuit-167 ├┤3     ├────────┤3        ├\n",
      "      └─────────────┘│      │┌──────┐│         │\n",
      "q2_0: ───────────────┤0     ├┤2     ├┤0        ├\n",
      "                     │  QPE ││      ││  QPE_dg │\n",
      "q2_1: ───────────────┤1     ├┤1     ├┤1        ├\n",
      "                     │      ││  1/x ││         │\n",
      "q2_2: ───────────────┤2     ├┤0     ├┤2        ├\n",
      "                     └──────┘│      │└─────────┘\n",
      "  q3: ───────────────────────┤3     ├───────────\n",
      "                             └──────┘           \n",
      "quantum answer =  [1.125 0.375]\n",
      "classic answer =  [1.125 0.375]\n"
     ]
    }
   ],
   "source": [
    "import numpy as np\n",
    "\n",
    "from hhl import HHL\n",
    "from qiskit.quantum_info import Statevector\n",
    "\n",
    "A = np.array([[1, -1/3], [-1/3, 1]])\n",
    "b = np.array([1, 0])\n",
    "\n",
    "qc = HHL(A, b)\n",
    "\n",
    "print(\"quantum circuit: \")\n",
    "print(qc)\n",
    "\n",
    "quantum_answer = Statevector(qc).data.real[16:18] / qc.scaling # 16 = 10000; 17 = 10001\n",
    "classic_answer = np.linalg.solve(A,b)\n",
    "\n",
    "np.set_printoptions(3)\n",
    "\n",
    "print(\"quantum answer = \", quantum_answer)\n",
    "print(\"classic answer = \", classic_answer)"
   ]
  },
  {
   "cell_type": "markdown",
   "metadata": {},
   "source": [
    "## Analyse Circuit Complexity\n",
    "\n",
    "Let's first look empirically how deep is our circuit."
   ]
  },
  {
   "cell_type": "code",
   "execution_count": 3,
   "metadata": {},
   "outputs": [
    {
     "name": "stdout",
     "output_type": "stream",
     "text": [
      "[334, 4335, 36343, 225024]\n"
     ]
    }
   ],
   "source": [
    "from qiskit import transpile\n",
    "from scipy.sparse import diags\n",
    "MAX_QUBITS = 4\n",
    "\n",
    "depths = []\n",
    "for n_qubits in range(1, MAX_QUBITS+1):\n",
    "    # construct sparser matrix\n",
    "    A_ = diags([-1/3, 1, -1/3],\n",
    "                   [-1, 0, 1],\n",
    "                   shape=(2**n_qubits, 2**n_qubits)).toarray()\n",
    "    b_ = np.array([1] + [0]*(2**n_qubits -1))\n",
    "    \n",
    "    qc = HHL(A_, b_)\n",
    "    qc = transpile(qc, basis_gates=['id', 'rz', 'sx', 'x', 'cx'])\n",
    "    depths.append(qc.depth())\n",
    "\n",
    "print(depths)"
   ]
  },
  {
   "cell_type": "markdown",
   "metadata": {},
   "source": [
    "## Run on Real Hardware\n",
    "\n"
   ]
  },
  {
   "cell_type": "code",
   "execution_count": 10,
   "metadata": {},
   "outputs": [],
   "source": [
    "from qiskit_ibm_runtime import QiskitRuntimeService, SamplerV2 as Sampler\n",
    "from qiskit.visualization import plot_histogram\n",
    "from qiskit.transpiler.preset_passmanagers import generate_preset_pass_manager\n",
    "\n",
    "qc.measure_all()\n",
    "\n",
    "service = QiskitRuntimeService()\n",
    "backend = service.least_busy(operational=True, simulator=False, min_num_qubits=qc.num_qubits)\n",
    "\n",
    "pm = generate_preset_pass_manager(backend=backend, optimization_level=1)\n",
    "isa_circuit = pm.run(qc)\n",
    "\n",
    "sampler = Sampler(backend)\n",
    "job = sampler.run([isa_circuit])\n",
    "result = job.result()\n",
    " \n",
    "# Get results for the first (and only) PUB\n",
    "pub_result = result[0]\n",
    " \n",
    "print(f\" > Counts: {pub_result.data.meas.get_counts()}\")"
   ]
  }
 ],
 "metadata": {
  "kernelspec": {
   "display_name": "qiskit",
   "language": "python",
   "name": "python3"
  },
  "language_info": {
   "codemirror_mode": {
    "name": "ipython",
    "version": 3
   },
   "file_extension": ".py",
   "mimetype": "text/x-python",
   "name": "python",
   "nbconvert_exporter": "python",
   "pygments_lexer": "ipython3",
   "version": "3.10.11"
  }
 },
 "nbformat": 4,
 "nbformat_minor": 2
}
