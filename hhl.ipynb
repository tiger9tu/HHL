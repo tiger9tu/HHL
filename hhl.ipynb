{
 "cells": [
  {
   "cell_type": "markdown",
   "metadata": {},
   "source": [
    "# HHL \n",
    "\n",
    "Try to implement HHL."
   ]
  },
  {
   "cell_type": "markdown",
   "metadata": {},
   "source": [
    "## imports"
   ]
  },
  {
   "cell_type": "code",
   "execution_count": 161,
   "metadata": {},
   "outputs": [],
   "source": [
    "import numpy as np\n",
    "import scipy as sp\n",
    "\n",
    "# Import Qiskit\n",
    "from qiskit import QuantumCircuit, transpile,  QuantumRegister, ClassicalRegister\n",
    "from qiskit_aer import AerSimulator\n",
    "from qiskit.visualization import plot_histogram\n",
    "from qiskit import QuantumCircuit\n",
    "from qiskit.quantum_info import Operator\n",
    "\n",
    "from qiskit.circuit.library.phase_estimation import PhaseEstimation\n",
    "from qiskit.circuit.library.arithmetic.exact_reciprocal import ExactReciprocal"
   ]
  },
  {
   "cell_type": "markdown",
   "metadata": {},
   "source": [
    "## Prepare Vector and Matrix"
   ]
  },
  {
   "cell_type": "code",
   "execution_count": 162,
   "metadata": {},
   "outputs": [],
   "source": [
    "nb = 1\n",
    "nl = 8 # eigenvalue evaluation qubits\n",
    "nf = 1 # if state preparation is probabilistic the number of qubit flags should increase\n",
    "# na = 0 # ancillia count\n",
    "\n",
    "A = np.array([[1,1],[1,-1]]) / np.sqrt(2)\n",
    "b = np.array([1, 1]) / np.sqrt(2)"
   ]
  },
  {
   "cell_type": "markdown",
   "metadata": {},
   "source": [
    "## Prepare Circuit"
   ]
  },
  {
   "cell_type": "code",
   "execution_count": 163,
   "metadata": {},
   "outputs": [],
   "source": [
    "# Create a new circuit with two qubits\n",
    "rb = QuantumRegister(nb)\n",
    "rl = QuantumRegister(nl)\n",
    "rf = QuantumRegister(nf)\n",
    "crf = ClassicalRegister(nf)\n",
    "crb = ClassicalRegister(nb)\n",
    "# ra = QuantumRegister(na)\n",
    "\n",
    "qc = QuantumCircuit(rb,rl,rf,crf,crb)"
   ]
  },
  {
   "cell_type": "markdown",
   "metadata": {},
   "source": [
    "## State Preparation"
   ]
  },
  {
   "cell_type": "code",
   "execution_count": 164,
   "metadata": {},
   "outputs": [
    {
     "data": {
      "text/html": [
       "<pre style=\"word-wrap: normal;white-space: pre;background: #fff0;line-height: 1.1;font-family: &quot;Courier New&quot;,Courier,monospace\">        ┌──────────────┐\n",
       "  q581: ┤ circuit-9532 ├\n",
       "        └──────────────┘\n",
       "q582_0: ────────────────\n",
       "                        \n",
       "q582_1: ────────────────\n",
       "                        \n",
       "q582_2: ────────────────\n",
       "                        \n",
       "q582_3: ────────────────\n",
       "                        \n",
       "q582_4: ────────────────\n",
       "                        \n",
       "q582_5: ────────────────\n",
       "                        \n",
       "q582_6: ────────────────\n",
       "                        \n",
       "q582_7: ────────────────\n",
       "                        \n",
       "  q583: ────────────────\n",
       "                        \n",
       " c16: 1/════════════════\n",
       "                        \n",
       " c17: 1/════════════════\n",
       "                        </pre>"
      ],
      "text/plain": [
       "        ┌──────────────┐\n",
       "  q581: ┤ circuit-9532 ├\n",
       "        └──────────────┘\n",
       "q582_0: ────────────────\n",
       "                        \n",
       "q582_1: ────────────────\n",
       "                        \n",
       "q582_2: ────────────────\n",
       "                        \n",
       "q582_3: ────────────────\n",
       "                        \n",
       "q582_4: ────────────────\n",
       "                        \n",
       "q582_5: ────────────────\n",
       "                        \n",
       "q582_6: ────────────────\n",
       "                        \n",
       "q582_7: ────────────────\n",
       "                        \n",
       "  q583: ────────────────\n",
       "                        \n",
       " c16: 1/════════════════\n",
       "                        \n",
       " c17: 1/════════════════\n",
       "                        "
      ]
     },
     "execution_count": 164,
     "metadata": {},
     "output_type": "execute_result"
    }
   ],
   "source": [
    "qcb = QuantumCircuit(rb)\n",
    "qcb.prepare_state(b / np.linalg.norm(b))\n",
    "\n",
    "qc.append(qcb, rb[:])\n",
    "\n",
    "qc.draw()"
   ]
  },
  {
   "cell_type": "markdown",
   "metadata": {},
   "source": [
    "# QPE"
   ]
  },
  {
   "cell_type": "code",
   "execution_count": 165,
   "metadata": {},
   "outputs": [
    {
     "data": {
      "text/html": [
       "<pre style=\"word-wrap: normal;white-space: pre;background: #fff0;line-height: 1.1;font-family: &quot;Courier New&quot;,Courier,monospace\">        ┌──────────────┐┌──────┐\n",
       "  q581: ┤ circuit-9532 ├┤8     ├\n",
       "        └──────────────┘│      │\n",
       "q582_0: ────────────────┤0     ├\n",
       "                        │      │\n",
       "q582_1: ────────────────┤1     ├\n",
       "                        │      │\n",
       "q582_2: ────────────────┤2     ├\n",
       "                        │      │\n",
       "q582_3: ────────────────┤3 QPE ├\n",
       "                        │      │\n",
       "q582_4: ────────────────┤4     ├\n",
       "                        │      │\n",
       "q582_5: ────────────────┤5     ├\n",
       "                        │      │\n",
       "q582_6: ────────────────┤6     ├\n",
       "                        │      │\n",
       "q582_7: ────────────────┤7     ├\n",
       "                        └──────┘\n",
       "  q583: ────────────────────────\n",
       "                                \n",
       " c16: 1/════════════════════════\n",
       "                                \n",
       " c17: 1/════════════════════════\n",
       "                                </pre>"
      ],
      "text/plain": [
       "        ┌──────────────┐┌──────┐\n",
       "  q581: ┤ circuit-9532 ├┤8     ├\n",
       "        └──────────────┘│      │\n",
       "q582_0: ────────────────┤0     ├\n",
       "                        │      │\n",
       "q582_1: ────────────────┤1     ├\n",
       "                        │      │\n",
       "q582_2: ────────────────┤2     ├\n",
       "                        │      │\n",
       "q582_3: ────────────────┤3 QPE ├\n",
       "                        │      │\n",
       "q582_4: ────────────────┤4     ├\n",
       "                        │      │\n",
       "q582_5: ────────────────┤5     ├\n",
       "                        │      │\n",
       "q582_6: ────────────────┤6     ├\n",
       "                        │      │\n",
       "q582_7: ────────────────┤7     ├\n",
       "                        └──────┘\n",
       "  q583: ────────────────────────\n",
       "                                \n",
       " c16: 1/════════════════════════\n",
       "                                \n",
       " c17: 1/════════════════════════\n",
       "                                "
      ]
     },
     "execution_count": 165,
     "metadata": {},
     "output_type": "execute_result"
    }
   ],
   "source": [
    "qcA = QuantumCircuit(rb)\n",
    "qcA.append(Operator(A).to_instruction(),[0])\n",
    "\n",
    "qcpe = PhaseEstimation(nl,qcA)\n",
    "\n",
    "qc.append(qcpe, rl[:] + rb[:])\n",
    "qc.draw()\n"
   ]
  },
  {
   "cell_type": "markdown",
   "metadata": {},
   "source": [
    "## Controled Rotation"
   ]
  },
  {
   "cell_type": "code",
   "execution_count": 166,
   "metadata": {},
   "outputs": [
    {
     "data": {
      "text/html": [
       "<pre style=\"word-wrap: normal;white-space: pre;background: #fff0;line-height: 1.1;font-family: &quot;Courier New&quot;,Courier,monospace\">        ┌──────────────┐┌──────┐        \n",
       "  q581: ┤ circuit-9532 ├┤8     ├────────\n",
       "        └──────────────┘│      │┌──────┐\n",
       "q582_0: ────────────────┤0     ├┤7     ├\n",
       "                        │      ││      │\n",
       "q582_1: ────────────────┤1     ├┤6     ├\n",
       "                        │      ││      │\n",
       "q582_2: ────────────────┤2     ├┤5     ├\n",
       "                        │      ││      │\n",
       "q582_3: ────────────────┤3 QPE ├┤4     ├\n",
       "                        │      ││      │\n",
       "q582_4: ────────────────┤4     ├┤3 1/x ├\n",
       "                        │      ││      │\n",
       "q582_5: ────────────────┤5     ├┤2     ├\n",
       "                        │      ││      │\n",
       "q582_6: ────────────────┤6     ├┤1     ├\n",
       "                        │      ││      │\n",
       "q582_7: ────────────────┤7     ├┤0     ├\n",
       "                        └──────┘│      │\n",
       "  q583: ────────────────────────┤8     ├\n",
       "                                └──────┘\n",
       " c16: 1/════════════════════════════════\n",
       "                                        \n",
       " c17: 1/════════════════════════════════\n",
       "                                        </pre>"
      ],
      "text/plain": [
       "        ┌──────────────┐┌──────┐        \n",
       "  q581: ┤ circuit-9532 ├┤8     ├────────\n",
       "        └──────────────┘│      │┌──────┐\n",
       "q582_0: ────────────────┤0     ├┤7     ├\n",
       "                        │      ││      │\n",
       "q582_1: ────────────────┤1     ├┤6     ├\n",
       "                        │      ││      │\n",
       "q582_2: ────────────────┤2     ├┤5     ├\n",
       "                        │      ││      │\n",
       "q582_3: ────────────────┤3 QPE ├┤4     ├\n",
       "                        │      ││      │\n",
       "q582_4: ────────────────┤4     ├┤3 1/x ├\n",
       "                        │      ││      │\n",
       "q582_5: ────────────────┤5     ├┤2     ├\n",
       "                        │      ││      │\n",
       "q582_6: ────────────────┤6     ├┤1     ├\n",
       "                        │      ││      │\n",
       "q582_7: ────────────────┤7     ├┤0     ├\n",
       "                        └──────┘│      │\n",
       "  q583: ────────────────────────┤8     ├\n",
       "                                └──────┘\n",
       " c16: 1/════════════════════════════════\n",
       "                                        \n",
       " c17: 1/════════════════════════════════\n",
       "                                        "
      ]
     },
     "execution_count": 166,
     "metadata": {},
     "output_type": "execute_result"
    }
   ],
   "source": [
    "c = 0.5\n",
    "qccr = ExactReciprocal(nl,c)\n",
    "\n",
    "qc.append(qccr.to_instruction(),  rl[::-1] + [rf[0]])\n",
    "qc.draw()"
   ]
  },
  {
   "cell_type": "markdown",
   "metadata": {},
   "source": [
    "## QPE inverse"
   ]
  },
  {
   "cell_type": "code",
   "execution_count": 167,
   "metadata": {},
   "outputs": [
    {
     "data": {
      "text/html": [
       "<pre style=\"word-wrap: normal;white-space: pre;background: #fff0;line-height: 1.1;font-family: &quot;Courier New&quot;,Courier,monospace\">        ┌──────────────┐┌──────┐        ┌─────────┐\n",
       "  q581: ┤ circuit-9532 ├┤8     ├────────┤8        ├\n",
       "        └──────────────┘│      │┌──────┐│         │\n",
       "q582_0: ────────────────┤0     ├┤7     ├┤0        ├\n",
       "                        │      ││      ││         │\n",
       "q582_1: ────────────────┤1     ├┤6     ├┤1        ├\n",
       "                        │      ││      ││         │\n",
       "q582_2: ────────────────┤2     ├┤5     ├┤2        ├\n",
       "                        │      ││      ││         │\n",
       "q582_3: ────────────────┤3 QPE ├┤4     ├┤3 QPE_dg ├\n",
       "                        │      ││      ││         │\n",
       "q582_4: ────────────────┤4     ├┤3 1/x ├┤4        ├\n",
       "                        │      ││      ││         │\n",
       "q582_5: ────────────────┤5     ├┤2     ├┤5        ├\n",
       "                        │      ││      ││         │\n",
       "q582_6: ────────────────┤6     ├┤1     ├┤6        ├\n",
       "                        │      ││      ││         │\n",
       "q582_7: ────────────────┤7     ├┤0     ├┤7        ├\n",
       "                        └──────┘│      │└─────────┘\n",
       "  q583: ────────────────────────┤8     ├───────────\n",
       "                                └──────┘           \n",
       " c16: 1/═══════════════════════════════════════════\n",
       "                                                   \n",
       " c17: 1/═══════════════════════════════════════════\n",
       "                                                   </pre>"
      ],
      "text/plain": [
       "        ┌──────────────┐┌──────┐        ┌─────────┐\n",
       "  q581: ┤ circuit-9532 ├┤8     ├────────┤8        ├\n",
       "        └──────────────┘│      │┌──────┐│         │\n",
       "q582_0: ────────────────┤0     ├┤7     ├┤0        ├\n",
       "                        │      ││      ││         │\n",
       "q582_1: ────────────────┤1     ├┤6     ├┤1        ├\n",
       "                        │      ││      ││         │\n",
       "q582_2: ────────────────┤2     ├┤5     ├┤2        ├\n",
       "                        │      ││      ││         │\n",
       "q582_3: ────────────────┤3 QPE ├┤4     ├┤3 QPE_dg ├\n",
       "                        │      ││      ││         │\n",
       "q582_4: ────────────────┤4     ├┤3 1/x ├┤4        ├\n",
       "                        │      ││      ││         │\n",
       "q582_5: ────────────────┤5     ├┤2     ├┤5        ├\n",
       "                        │      ││      ││         │\n",
       "q582_6: ────────────────┤6     ├┤1     ├┤6        ├\n",
       "                        │      ││      ││         │\n",
       "q582_7: ────────────────┤7     ├┤0     ├┤7        ├\n",
       "                        └──────┘│      │└─────────┘\n",
       "  q583: ────────────────────────┤8     ├───────────\n",
       "                                └──────┘           \n",
       " c16: 1/═══════════════════════════════════════════\n",
       "                                                   \n",
       " c17: 1/═══════════════════════════════════════════\n",
       "                                                   "
      ]
     },
     "execution_count": 167,
     "metadata": {},
     "output_type": "execute_result"
    }
   ],
   "source": [
    "qc.append(qcpe.inverse(), rl[:] + rb[:])\n",
    "qc.draw()"
   ]
  },
  {
   "cell_type": "markdown",
   "metadata": {},
   "source": [
    "## Simulation"
   ]
  },
  {
   "cell_type": "code",
   "execution_count": 168,
   "metadata": {},
   "outputs": [
    {
     "data": {
      "image/png": "[encoded data removed]",
      "text/plain": [
       "<Figure size 640x480 with 1 Axes>"
      ]
     },
     "execution_count": 168,
     "metadata": {},
     "output_type": "execute_result"
    }
   ],
   "source": [
    "simulator = AerSimulator()\n",
    "\n",
    "# Transpile for simulator\n",
    "simulator = AerSimulator()\n",
    "qc = transpile(qc, simulator)\n",
    "\n",
    "qc.measure(rf,crf)\n",
    "qc.measure(rb,crb)\n",
    "\n",
    "# Run and get counts\n",
    "result = simulator.run(qc).result()\n",
    "counts = result.get_counts(qc)\n",
    "plot_histogram(counts, title='State counts')\n",
    "\n",
    "# TODO: how to filiter results with rf = 1?\n"
   ]
  },
  {
   "cell_type": "markdown",
   "metadata": {},
   "source": []
  }
 ],
 "metadata": {
  "kernelspec": {
   "display_name": "qiskit-new",
   "language": "python",
   "name": "python3"
  },
  "language_info": {
   "codemirror_mode": {
    "name": "ipython",
    "version": 3
   },
   "file_extension": ".py",
   "mimetype": "text/x-python",
   "name": "python",
   "nbconvert_exporter": "python",
   "pygments_lexer": "ipython3",
   "version": "3.11.1"
  }
 },
 "nbformat": 4,
 "nbformat_minor": 2
}
