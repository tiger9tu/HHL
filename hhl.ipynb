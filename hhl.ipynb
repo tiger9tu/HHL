{
 "cells": [
  {
   "cell_type": "markdown",
   "metadata": {},
   "source": [
    "# HHL \n",
    "\n",
    "Try to implement HHL."
   ]
  },
  {
   "cell_type": "markdown",
   "metadata": {},
   "source": [
    "## imports"
   ]
  },
  {
   "cell_type": "code",
   "execution_count": 809,
   "metadata": {},
   "outputs": [],
   "source": [
    "import numpy as np\n",
    "import scipy as sp\n",
    "# Import Qiskit\n",
    "from qiskit import QuantumCircuit, transpile,  QuantumRegister, ClassicalRegister\n",
    "from qiskit_aer import AerSimulator\n",
    "from qiskit.visualization import plot_histogram\n",
    "from qiskit.quantum_info import Operator, Statevector\n",
    "\n",
    "from qiskit.circuit.library.phase_estimation import PhaseEstimation\n",
    "from qiskit.circuit.library.arithmetic.exact_reciprocal import ExactReciprocal"
   ]
  },
  {
   "cell_type": "markdown",
   "metadata": {},
   "source": [
    "## Parameters"
   ]
  },
  {
   "cell_type": "code",
   "execution_count": 810,
   "metadata": {},
   "outputs": [],
   "source": [
    "nb = 1\n",
    "nl = 2 # eigenvalue evaluation qubits\n",
    "nf = 1 # if state preparation is probabilistic the number of qubit flags should increase\n",
    "# na = 0 # ancillia count\n",
    "t = np.pi * 3/4\n",
    "c = 1/8\n",
    "A = np.array([[1,0],[0,1]]) \n",
    "b_ = np.array([7,1]) \n",
    "b = b_ / np.linalg.norm(b_)"
   ]
  },
  {
   "cell_type": "markdown",
   "metadata": {},
   "source": [
    "## Prepare Circuit"
   ]
  },
  {
   "cell_type": "code",
   "execution_count": 811,
   "metadata": {},
   "outputs": [],
   "source": [
    "# Create a new circuit with two qubits\n",
    "rb = QuantumRegister(nb)\n",
    "rl = QuantumRegister(nl)\n",
    "rf = QuantumRegister(nf)\n",
    "# crf = ClassicalRegister(nf)\n",
    "# crb = ClassicalRegister(nb)\n",
    "# ra = QuantumRegister(na)\n",
    "\n",
    "qc = QuantumCircuit(rb,rl,rf)#,crf,crb)"
   ]
  },
  {
   "cell_type": "markdown",
   "metadata": {},
   "source": [
    "## State Preparation"
   ]
  },
  {
   "cell_type": "code",
   "execution_count": 812,
   "metadata": {},
   "outputs": [
    {
     "data": {
      "text/latex": [
       "$$0.9899494937 |0000\\rangle+0.1414213562 |0001\\rangle$$"
      ],
      "text/plain": [
       "<IPython.core.display.Latex object>"
      ]
     },
     "execution_count": 812,
     "metadata": {},
     "output_type": "execute_result"
    }
   ],
   "source": [
    "qcb = QuantumCircuit(rb)\n",
    "qcb.prepare_state(b / np.linalg.norm(b))\n",
    "\n",
    "qc.append(qcb, rb[:])\n",
    "\n",
    "# display(qc.draw())\n",
    "\n",
    "psi = Statevector(qc)\n",
    "psi.draw(\"latex\")"
   ]
  },
  {
   "cell_type": "markdown",
   "metadata": {},
   "source": [
    "# QPE"
   ]
  },
  {
   "cell_type": "code",
   "execution_count": 813,
   "metadata": {},
   "outputs": [
    {
     "data": {
      "text/latex": [
       "$$(0.2474873734 + 0.1025126266 i) |0000\\rangle+(0.0353553391 + 0.0146446609 i) |0001\\rangle+(0.2474873734 - 0.5974873734 i) |0010\\rangle+(0.0353553391 - 0.0853553391 i) |0011\\rangle+(0.2474873734 + 0.5974873734 i) |0100\\rangle+(0.0353553391 + 0.0853553391 i) |0101\\rangle+(0.2474873734 - 0.1025126266 i) |0110\\rangle+(0.0353553391 - 0.0146446609 i) |0111\\rangle$$"
      ],
      "text/plain": [
       "<IPython.core.display.Latex object>"
      ]
     },
     "execution_count": 813,
     "metadata": {},
     "output_type": "execute_result"
    }
   ],
   "source": [
    "qcA = QuantumCircuit(rb)\n",
    "eA = sp.linalg.expm(1j * A * t)\n",
    "qcA.append(Operator(eA).to_instruction(),[0])\n",
    "\n",
    "qcpe = PhaseEstimation(nl,qcA)\n",
    "qc.append(qcpe, rl[:] + rb[:])\n",
    "\n",
    "psi = Statevector(qc)\n",
    "psi.draw(\"latex\")"
   ]
  },
  {
   "cell_type": "markdown",
   "metadata": {},
   "source": [
    "## Controled Rotation"
   ]
  },
  {
   "cell_type": "code",
   "execution_count": 814,
   "metadata": {},
   "outputs": [
    {
     "data": {
      "text/latex": [
       "$$(0.2474873734 + 0.1025126266 i) |0000\\rangle+(0.0353553391 + 0.0146446609 i) |0001\\rangle+(0.2396286189 - 0.5785146617 i) |0010\\rangle+(0.0342326598 - 0.0826449517 i) |0011\\rangle+(0.2143303525 + 0.5174392438 i) |0100\\rangle+(0.0306186218 + 0.073919892 i) |0101\\rangle + \\ldots +(0.0088388348 - 0.0213388348 i) |1011\\rangle+(0.1237436867 + 0.2987436867 i) |1100\\rangle+(0.0176776695 + 0.0426776695 i) |1101\\rangle+(0.0412478956 - 0.0170854378 i) |1110\\rangle+(0.0058925565 - 0.0024407768 i) |1111\\rangle$$"
      ],
      "text/plain": [
       "<IPython.core.display.Latex object>"
      ]
     },
     "execution_count": 814,
     "metadata": {},
     "output_type": "execute_result"
    }
   ],
   "source": [
    "qccr = ExactReciprocal(nl,c)\n",
    "\n",
    "qc.append(qccr.to_instruction(),  rl[::-1] + [rf[0]])\n",
    "# qc.draw()\n",
    "psi = Statevector(qc)\n",
    "psi.draw(\"latex\")"
   ]
  },
  {
   "cell_type": "markdown",
   "metadata": {},
   "source": [
    "## QPE inverse"
   ]
  },
  {
   "cell_type": "code",
   "execution_count": 815,
   "metadata": {},
   "outputs": [
    {
     "data": {
      "text/plain": [
       "<qiskit.circuit.instructionset.InstructionSet at 0x20946e14b80>"
      ]
     },
     "execution_count": 815,
     "metadata": {},
     "output_type": "execute_result"
    }
   ],
   "source": [
    "qc.append(qcpe.inverse(), rl[:] + rb[:])"
   ]
  },
  {
   "cell_type": "markdown",
   "metadata": {},
   "source": [
    "## Show Result"
   ]
  },
  {
   "cell_type": "code",
   "execution_count": 816,
   "metadata": {},
   "outputs": [
    {
     "data": {
      "text/latex": [
       "$$0.9189173259 |0000\\rangle+0.1312739037 |0001\\rangle- 0.0154409027 i |0010\\rangle- 0.0022058432 i |0011\\rangle- 0.0442007015 i |0100\\rangle- 0.0063143859 i |0101\\rangle + \\ldots +0.0020833333 i |1011\\rangle+0.1177030723 i |1100\\rangle+0.0168147246 i |1101\\rangle-0.1020833333 |1110\\rangle-0.0145833333 |1111\\rangle$$"
      ],
      "text/plain": [
       "<IPython.core.display.Latex object>"
      ]
     },
     "execution_count": 816,
     "metadata": {},
     "output_type": "execute_result"
    }
   ],
   "source": [
    "psi = Statevector(qc)\n",
    "psi.draw(\"latex\")"
   ]
  },
  {
   "cell_type": "markdown",
   "metadata": {},
   "source": [
    "## Simulation"
   ]
  },
  {
   "cell_type": "code",
   "execution_count": 817,
   "metadata": {},
   "outputs": [
    {
     "ename": "QiskitError",
     "evalue": "'No counts for experiment \"<qiskit.circuit.quantumcircuit.QuantumCircuit object at 0x0000020948F574D0>\"'",
     "output_type": "error",
     "traceback": [
      "\u001b[1;31m---------------------------------------------------------------------------\u001b[0m",
      "\u001b[1;31mQiskitError\u001b[0m                               Traceback (most recent call last)",
      "Cell \u001b[1;32mIn[817], line 10\u001b[0m\n\u001b[0;32m      5\u001b[0m \u001b[38;5;66;03m# qc.measure(rf,crf)\u001b[39;00m\n\u001b[0;32m      6\u001b[0m \u001b[38;5;66;03m# qc.measure(rb,crb)\u001b[39;00m\n\u001b[0;32m      7\u001b[0m \n\u001b[0;32m      8\u001b[0m \u001b[38;5;66;03m# Run and get counts\u001b[39;00m\n\u001b[0;32m      9\u001b[0m result \u001b[38;5;241m=\u001b[39m simulator\u001b[38;5;241m.\u001b[39mrun(qc)\u001b[38;5;241m.\u001b[39mresult()\n\u001b[1;32m---> 10\u001b[0m counts \u001b[38;5;241m=\u001b[39m \u001b[43mresult\u001b[49m\u001b[38;5;241;43m.\u001b[39;49m\u001b[43mget_counts\u001b[49m\u001b[43m(\u001b[49m\u001b[43mqc\u001b[49m\u001b[43m)\u001b[49m\n\u001b[0;32m     11\u001b[0m counts_filiter_1 \u001b[38;5;241m=\u001b[39m {k[\u001b[38;5;241m2\u001b[39m]: v \u001b[38;5;28;01mfor\u001b[39;00m k,v \u001b[38;5;129;01min\u001b[39;00m counts\u001b[38;5;241m.\u001b[39mitems() \u001b[38;5;28;01mif\u001b[39;00m k\u001b[38;5;241m.\u001b[39mstartswith(\u001b[38;5;124m'\u001b[39m\u001b[38;5;124m1\u001b[39m\u001b[38;5;124m'\u001b[39m)}\n\u001b[0;32m     12\u001b[0m plot_histogram(counts_filiter_1, title\u001b[38;5;241m=\u001b[39m\u001b[38;5;124m'\u001b[39m\u001b[38;5;124mState counts\u001b[39m\u001b[38;5;124m'\u001b[39m)\n",
      "File \u001b[1;32mc:\\Users\\huang\\AppData\\Local\\Programs\\Python\\Python312\\Lib\\site-packages\\qiskit\\result\\result.py:289\u001b[0m, in \u001b[0;36mResult.get_counts\u001b[1;34m(self, experiment)\u001b[0m\n\u001b[0;32m    287\u001b[0m         dict_list\u001b[38;5;241m.\u001b[39mappend(statevector\u001b[38;5;241m.\u001b[39mStatevector(vec)\u001b[38;5;241m.\u001b[39mprobabilities_dict(decimals\u001b[38;5;241m=\u001b[39m\u001b[38;5;241m15\u001b[39m))\n\u001b[0;32m    288\u001b[0m     \u001b[38;5;28;01melse\u001b[39;00m:\n\u001b[1;32m--> 289\u001b[0m         \u001b[38;5;28;01mraise\u001b[39;00m QiskitError(\u001b[38;5;124mf\u001b[39m\u001b[38;5;124m'\u001b[39m\u001b[38;5;124mNo counts for experiment \u001b[39m\u001b[38;5;124m\"\u001b[39m\u001b[38;5;132;01m{\u001b[39;00m\u001b[38;5;28mrepr\u001b[39m(key)\u001b[38;5;132;01m}\u001b[39;00m\u001b[38;5;124m\"\u001b[39m\u001b[38;5;124m'\u001b[39m)\n\u001b[0;32m    291\u001b[0m \u001b[38;5;66;03m# Return first item of dict_list if size is 1\u001b[39;00m\n\u001b[0;32m    292\u001b[0m \u001b[38;5;28;01mif\u001b[39;00m \u001b[38;5;28mlen\u001b[39m(dict_list) \u001b[38;5;241m==\u001b[39m \u001b[38;5;241m1\u001b[39m:\n",
      "\u001b[1;31mQiskitError\u001b[0m: 'No counts for experiment \"<qiskit.circuit.quantumcircuit.QuantumCircuit object at 0x0000020948F574D0>\"'"
     ]
    }
   ],
   "source": [
    "# Transpile for simulator\n",
    "simulator = AerSimulator()\n",
    "qc = transpile(qc, simulator)\n",
    "\n",
    "# qc.measure(rf,crf)\n",
    "# qc.measure(rb,crb)\n",
    "\n",
    "# Run and get counts\n",
    "result = simulator.run(qc).result()\n",
    "counts = result.get_counts(qc)\n",
    "counts_filiter_1 = {k[2]: v for k,v in counts.items() if k.startswith('1')}\n",
    "plot_histogram(counts_filiter_1, title='State counts')\n",
    "\n"
   ]
  },
  {
   "cell_type": "markdown",
   "metadata": {},
   "source": []
  }
 ],
 "metadata": {
  "kernelspec": {
   "display_name": "qiskit-new",
   "language": "python",
   "name": "python3"
  },
  "language_info": {
   "codemirror_mode": {
    "name": "ipython",
    "version": 3
   },
   "file_extension": ".py",
   "mimetype": "text/x-python",
   "name": "python",
   "nbconvert_exporter": "python",
   "pygments_lexer": "ipython3",
   "version": "3.12.4"
  }
 },
 "nbformat": 4,
 "nbformat_minor": 2
}
